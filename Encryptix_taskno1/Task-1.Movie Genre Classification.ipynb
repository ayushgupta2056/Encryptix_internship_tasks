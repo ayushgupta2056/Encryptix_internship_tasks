{
 "cells": [
  {
   "attachments": {},
   "cell_type": "markdown",
   "id": "2114ec4b-3ccf-4f75-a42d-c60e40f930ba",
   "metadata": {},
   "source": [
    "## Genre Classification Of Movies"
   ]
  },
  {
   "cell_type": "code",
   "execution_count": 1,
   "id": "6b48ea31-ddf2-4029-b8b0-f0b01f9a81fd",
   "metadata": {},
   "outputs": [],
   "source": [
    "# importing Dependencies\n",
    "import pandas as pd\n",
    "import numpy as np"
   ]
  },
  {
   "cell_type": "code",
   "execution_count": 2,
   "id": "43db94f5-9c68-4df6-97dd-f9117ac620df",
   "metadata": {},
   "outputs": [],
   "source": [
    "columns=['Movie Name','Genre','Description']\n",
    "column=['Movie Name','Description']"
   ]
  },
  {
   "cell_type": "code",
   "execution_count": 3,
   "id": "9cd75523-faca-476e-86fa-e57c537f071b",
   "metadata": {},
   "outputs": [],
   "source": [
    "\n",
    "df_train = pd.read_csv(r'C:\\Users\\91951\\Desktop\\Internships\\Encryptix\\ML\\T1\\Genre Classification Dataset\\train_data.txt', delimiter=':::', engine='python', names=columns, index_col=0)"
   ]
  },
  {
   "cell_type": "code",
   "execution_count": 4,
   "id": "ec48430f-b18b-4523-9903-bcfb5c04f316",
   "metadata": {},
   "outputs": [
    {
     "data": {
      "text/html": [
       "<div>\n",
       "<style scoped>\n",
       "    .dataframe tbody tr th:only-of-type {\n",
       "        vertical-align: middle;\n",
       "    }\n",
       "\n",
       "    .dataframe tbody tr th {\n",
       "        vertical-align: top;\n",
       "    }\n",
       "\n",
       "    .dataframe thead th {\n",
       "        text-align: right;\n",
       "    }\n",
       "</style>\n",
       "<table border=\"1\" class=\"dataframe\">\n",
       "  <thead>\n",
       "    <tr style=\"text-align: right;\">\n",
       "      <th></th>\n",
       "      <th>Movie Name</th>\n",
       "      <th>Genre</th>\n",
       "      <th>Description</th>\n",
       "    </tr>\n",
       "  </thead>\n",
       "  <tbody>\n",
       "    <tr>\n",
       "      <th>1</th>\n",
       "      <td>Oscar et la dame rose (2009)</td>\n",
       "      <td>drama</td>\n",
       "      <td>Listening in to a conversation between his do...</td>\n",
       "    </tr>\n",
       "    <tr>\n",
       "      <th>2</th>\n",
       "      <td>Cupid (1997)</td>\n",
       "      <td>thriller</td>\n",
       "      <td>A brother and sister with a past incestuous r...</td>\n",
       "    </tr>\n",
       "    <tr>\n",
       "      <th>3</th>\n",
       "      <td>Young, Wild and Wonderful (1980)</td>\n",
       "      <td>adult</td>\n",
       "      <td>As the bus empties the students for their fie...</td>\n",
       "    </tr>\n",
       "    <tr>\n",
       "      <th>4</th>\n",
       "      <td>The Secret Sin (1915)</td>\n",
       "      <td>drama</td>\n",
       "      <td>To help their unemployed father make ends mee...</td>\n",
       "    </tr>\n",
       "    <tr>\n",
       "      <th>5</th>\n",
       "      <td>The Unrecovered (2007)</td>\n",
       "      <td>drama</td>\n",
       "      <td>The film's title refers not only to the un-re...</td>\n",
       "    </tr>\n",
       "  </tbody>\n",
       "</table>\n",
       "</div>"
      ],
      "text/plain": [
       "                           Movie Name       Genre  \\\n",
       "1       Oscar et la dame rose (2009)       drama    \n",
       "2                       Cupid (1997)    thriller    \n",
       "3   Young, Wild and Wonderful (1980)       adult    \n",
       "4              The Secret Sin (1915)       drama    \n",
       "5             The Unrecovered (2007)       drama    \n",
       "\n",
       "                                         Description  \n",
       "1   Listening in to a conversation between his do...  \n",
       "2   A brother and sister with a past incestuous r...  \n",
       "3   As the bus empties the students for their fie...  \n",
       "4   To help their unemployed father make ends mee...  \n",
       "5   The film's title refers not only to the un-re...  "
      ]
     },
     "execution_count": 4,
     "metadata": {},
     "output_type": "execute_result"
    }
   ],
   "source": [
    "df_train.head()"
   ]
  },
  {
   "cell_type": "code",
   "execution_count": 5,
   "id": "8506c79c-b924-4921-b1b7-36075b31feee",
   "metadata": {},
   "outputs": [],
   "source": [
    "# Reading Test Data From Dataset\n",
    "df_test=pd.read_csv(r'C:\\Users\\91951\\Desktop\\Internships\\Encryptix\\ML\\T1\\Genre Classification Dataset\\test_data_solution.txt',delimiter=':::' , engine='python',names=columns,index_col=0)"
   ]
  },
  {
   "cell_type": "code",
   "execution_count": 6,
   "id": "bd97c17c-6513-4534-b6c6-16bb3e759c30",
   "metadata": {},
   "outputs": [
    {
     "data": {
      "text/html": [
       "<div>\n",
       "<style scoped>\n",
       "    .dataframe tbody tr th:only-of-type {\n",
       "        vertical-align: middle;\n",
       "    }\n",
       "\n",
       "    .dataframe tbody tr th {\n",
       "        vertical-align: top;\n",
       "    }\n",
       "\n",
       "    .dataframe thead th {\n",
       "        text-align: right;\n",
       "    }\n",
       "</style>\n",
       "<table border=\"1\" class=\"dataframe\">\n",
       "  <thead>\n",
       "    <tr style=\"text-align: right;\">\n",
       "      <th></th>\n",
       "      <th>Movie Name</th>\n",
       "      <th>Genre</th>\n",
       "      <th>Description</th>\n",
       "    </tr>\n",
       "  </thead>\n",
       "  <tbody>\n",
       "    <tr>\n",
       "      <th>1</th>\n",
       "      <td>Edgar's Lunch (1998)</td>\n",
       "      <td>thriller</td>\n",
       "      <td>L.R. Brane loves his life - his car, his apar...</td>\n",
       "    </tr>\n",
       "    <tr>\n",
       "      <th>2</th>\n",
       "      <td>La guerra de papá (1977)</td>\n",
       "      <td>comedy</td>\n",
       "      <td>Spain, March 1964: Quico is a very naughty ch...</td>\n",
       "    </tr>\n",
       "    <tr>\n",
       "      <th>3</th>\n",
       "      <td>Off the Beaten Track (2010)</td>\n",
       "      <td>documentary</td>\n",
       "      <td>One year in the life of Albin and his family ...</td>\n",
       "    </tr>\n",
       "    <tr>\n",
       "      <th>4</th>\n",
       "      <td>Meu Amigo Hindu (2015)</td>\n",
       "      <td>drama</td>\n",
       "      <td>His father has died, he hasn't spoken with hi...</td>\n",
       "    </tr>\n",
       "    <tr>\n",
       "      <th>5</th>\n",
       "      <td>Er nu zhai (1955)</td>\n",
       "      <td>drama</td>\n",
       "      <td>Before he was known internationally as a mart...</td>\n",
       "    </tr>\n",
       "  </tbody>\n",
       "</table>\n",
       "</div>"
      ],
      "text/plain": [
       "                      Movie Name          Genre  \\\n",
       "1          Edgar's Lunch (1998)       thriller    \n",
       "2      La guerra de papá (1977)         comedy    \n",
       "3   Off the Beaten Track (2010)    documentary    \n",
       "4        Meu Amigo Hindu (2015)          drama    \n",
       "5             Er nu zhai (1955)          drama    \n",
       "\n",
       "                                         Description  \n",
       "1   L.R. Brane loves his life - his car, his apar...  \n",
       "2   Spain, March 1964: Quico is a very naughty ch...  \n",
       "3   One year in the life of Albin and his family ...  \n",
       "4   His father has died, he hasn't spoken with hi...  \n",
       "5   Before he was known internationally as a mart...  "
      ]
     },
     "execution_count": 6,
     "metadata": {},
     "output_type": "execute_result"
    }
   ],
   "source": [
    "df_test.head()"
   ]
  },
  {
   "attachments": {},
   "cell_type": "markdown",
   "id": "919729ed-1cd0-40c6-8c4a-cbb3d4d516ba",
   "metadata": {},
   "source": [
    "## DATA PREPROCESSING"
   ]
  },
  {
   "cell_type": "code",
   "execution_count": 7,
   "id": "53404c2d-3db9-46e8-97a3-81c171b88ff2",
   "metadata": {},
   "outputs": [],
   "source": [
    "# Converting Description column to lowercase in both train and test\n",
    "df_train.loc[:,'Description'] = df_train['Description'].astype(str).str.lower()\n",
    "df_test.loc[:,'Description'] = df_test['Description'].astype(str).str.lower()"
   ]
  },
  {
   "cell_type": "code",
   "execution_count": 8,
   "id": "4f928a43-e462-47eb-b066-e500e1c8ff44",
   "metadata": {},
   "outputs": [
    {
     "name": "stdout",
     "output_type": "stream",
     "text": [
      "Index(['Movie Name', 'Genre', 'Description'], dtype='object')\n",
      "Index(['Movie Name', 'Genre', 'Description'], dtype='object')\n"
     ]
    }
   ],
   "source": [
    "print(df_train.columns)\n",
    "print(df_test.columns)"
   ]
  },
  {
   "cell_type": "code",
   "execution_count": 9,
   "id": "bdec532b-8ca6-4028-84f4-efe0789fdd59",
   "metadata": {},
   "outputs": [],
   "source": [
    "#Dropping 'Movie Name' Column from Test And Train\n",
    "df_train.drop(columns=['Movie Name'], inplace = True)    \n",
    "df_test.drop(columns=['Movie Name'], inplace = True)"
   ]
  },
  {
   "cell_type": "code",
   "execution_count": 10,
   "id": "f17cb5c9-28ed-4354-817f-0209b2a7268a",
   "metadata": {},
   "outputs": [
    {
     "data": {
      "text/html": [
       "<div>\n",
       "<style scoped>\n",
       "    .dataframe tbody tr th:only-of-type {\n",
       "        vertical-align: middle;\n",
       "    }\n",
       "\n",
       "    .dataframe tbody tr th {\n",
       "        vertical-align: top;\n",
       "    }\n",
       "\n",
       "    .dataframe thead th {\n",
       "        text-align: right;\n",
       "    }\n",
       "</style>\n",
       "<table border=\"1\" class=\"dataframe\">\n",
       "  <thead>\n",
       "    <tr style=\"text-align: right;\">\n",
       "      <th></th>\n",
       "      <th>Genre</th>\n",
       "      <th>Description</th>\n",
       "    </tr>\n",
       "  </thead>\n",
       "  <tbody>\n",
       "    <tr>\n",
       "      <th>1</th>\n",
       "      <td>drama</td>\n",
       "      <td>listening in to a conversation between his do...</td>\n",
       "    </tr>\n",
       "    <tr>\n",
       "      <th>2</th>\n",
       "      <td>thriller</td>\n",
       "      <td>a brother and sister with a past incestuous r...</td>\n",
       "    </tr>\n",
       "    <tr>\n",
       "      <th>3</th>\n",
       "      <td>adult</td>\n",
       "      <td>as the bus empties the students for their fie...</td>\n",
       "    </tr>\n",
       "    <tr>\n",
       "      <th>4</th>\n",
       "      <td>drama</td>\n",
       "      <td>to help their unemployed father make ends mee...</td>\n",
       "    </tr>\n",
       "    <tr>\n",
       "      <th>5</th>\n",
       "      <td>drama</td>\n",
       "      <td>the film's title refers not only to the un-re...</td>\n",
       "    </tr>\n",
       "  </tbody>\n",
       "</table>\n",
       "</div>"
      ],
      "text/plain": [
       "        Genre                                        Description\n",
       "1      drama    listening in to a conversation between his do...\n",
       "2   thriller    a brother and sister with a past incestuous r...\n",
       "3      adult    as the bus empties the students for their fie...\n",
       "4      drama    to help their unemployed father make ends mee...\n",
       "5      drama    the film's title refers not only to the un-re..."
      ]
     },
     "execution_count": 10,
     "metadata": {},
     "output_type": "execute_result"
    }
   ],
   "source": [
    "df_train.head()"
   ]
  },
  {
   "cell_type": "code",
   "execution_count": 11,
   "id": "85ff4e12-2649-4de4-955d-f5de933a4388",
   "metadata": {},
   "outputs": [
    {
     "data": {
      "text/html": [
       "<div>\n",
       "<style scoped>\n",
       "    .dataframe tbody tr th:only-of-type {\n",
       "        vertical-align: middle;\n",
       "    }\n",
       "\n",
       "    .dataframe tbody tr th {\n",
       "        vertical-align: top;\n",
       "    }\n",
       "\n",
       "    .dataframe thead th {\n",
       "        text-align: right;\n",
       "    }\n",
       "</style>\n",
       "<table border=\"1\" class=\"dataframe\">\n",
       "  <thead>\n",
       "    <tr style=\"text-align: right;\">\n",
       "      <th></th>\n",
       "      <th>Genre</th>\n",
       "      <th>Description</th>\n",
       "    </tr>\n",
       "  </thead>\n",
       "  <tbody>\n",
       "    <tr>\n",
       "      <th>1</th>\n",
       "      <td>thriller</td>\n",
       "      <td>l.r. brane loves his life - his car, his apar...</td>\n",
       "    </tr>\n",
       "    <tr>\n",
       "      <th>2</th>\n",
       "      <td>comedy</td>\n",
       "      <td>spain, march 1964: quico is a very naughty ch...</td>\n",
       "    </tr>\n",
       "    <tr>\n",
       "      <th>3</th>\n",
       "      <td>documentary</td>\n",
       "      <td>one year in the life of albin and his family ...</td>\n",
       "    </tr>\n",
       "    <tr>\n",
       "      <th>4</th>\n",
       "      <td>drama</td>\n",
       "      <td>his father has died, he hasn't spoken with hi...</td>\n",
       "    </tr>\n",
       "    <tr>\n",
       "      <th>5</th>\n",
       "      <td>drama</td>\n",
       "      <td>before he was known internationally as a mart...</td>\n",
       "    </tr>\n",
       "  </tbody>\n",
       "</table>\n",
       "</div>"
      ],
      "text/plain": [
       "           Genre                                        Description\n",
       "1      thriller    l.r. brane loves his life - his car, his apar...\n",
       "2        comedy    spain, march 1964: quico is a very naughty ch...\n",
       "3   documentary    one year in the life of albin and his family ...\n",
       "4         drama    his father has died, he hasn't spoken with hi...\n",
       "5         drama    before he was known internationally as a mart..."
      ]
     },
     "execution_count": 11,
     "metadata": {},
     "output_type": "execute_result"
    }
   ],
   "source": [
    "df_test.head()"
   ]
  },
  {
   "cell_type": "code",
   "execution_count": 12,
   "id": "e2f6c132-4452-49d8-bf1d-38cf6b1f8389",
   "metadata": {},
   "outputs": [
    {
     "name": "stdout",
     "output_type": "stream",
     "text": [
      "<class 'pandas.core.frame.DataFrame'>\n",
      "Index: 54214 entries, 1 to 54214\n",
      "Data columns (total 2 columns):\n",
      " #   Column       Non-Null Count  Dtype \n",
      "---  ------       --------------  ----- \n",
      " 0   Genre        54214 non-null  object\n",
      " 1   Description  54214 non-null  object\n",
      "dtypes: object(2)\n",
      "memory usage: 1.2+ MB\n",
      "None\n"
     ]
    }
   ],
   "source": [
    "#Info About Training Data\n",
    "print(df_train.info())"
   ]
  },
  {
   "cell_type": "code",
   "execution_count": 13,
   "id": "baeed450-6967-42b5-ae97-f8b5f1cf9fd1",
   "metadata": {},
   "outputs": [
    {
     "name": "stdout",
     "output_type": "stream",
     "text": [
      "<class 'pandas.core.frame.DataFrame'>\n",
      "Index: 54200 entries, 1 to 54200\n",
      "Data columns (total 2 columns):\n",
      " #   Column       Non-Null Count  Dtype \n",
      "---  ------       --------------  ----- \n",
      " 0   Genre        54200 non-null  object\n",
      " 1   Description  54200 non-null  object\n",
      "dtypes: object(2)\n",
      "memory usage: 1.2+ MB\n",
      "None\n"
     ]
    }
   ],
   "source": [
    "#Info About Test Data\n",
    "print(df_test.info())"
   ]
  },
  {
   "cell_type": "code",
   "execution_count": 14,
   "id": "57d6bd20-9b13-4039-a17d-525acce36e83",
   "metadata": {},
   "outputs": [
    {
     "name": "stdout",
     "output_type": "stream",
     "text": [
      "(54214, 2)\n",
      "(54200, 2)\n"
     ]
    }
   ],
   "source": [
    "# Shape Of both Train And Test Data\n",
    "print(df_train.shape)\n",
    "print(df_test.shape)"
   ]
  },
  {
   "attachments": {},
   "cell_type": "markdown",
   "id": "ed063827-3f26-4c99-a0d7-6ef6dfc34465",
   "metadata": {},
   "source": [
    "## DATA CLEANING"
   ]
  },
  {
   "cell_type": "code",
   "execution_count": 15,
   "id": "fdf66b31-3d06-430c-8832-002e46599879",
   "metadata": {},
   "outputs": [
    {
     "name": "stdout",
     "output_type": "stream",
     "text": [
      "TRAINING DUPLICATES: 110\n"
     ]
    }
   ],
   "source": [
    "#Printing Duplicate Rows in Taining Data\n",
    "print(\"TRAINING DUPLICATES:\", df_train.duplicated().sum())  "
   ]
  },
  {
   "cell_type": "code",
   "execution_count": 16,
   "id": "2c9fa3b6-84ee-41fa-bafb-343e70e090f7",
   "metadata": {},
   "outputs": [
    {
     "name": "stdout",
     "output_type": "stream",
     "text": [
      "TESTING DUPLICATES: 114\n"
     ]
    }
   ],
   "source": [
    "#Printing Duplicate Rows in Testing Data\n",
    "print(\"TESTING DUPLICATES:\", df_test.duplicated().sum())"
   ]
  },
  {
   "cell_type": "code",
   "execution_count": 17,
   "id": "824d8a86-5b7b-4fb2-a545-a3ac446eeafd",
   "metadata": {},
   "outputs": [],
   "source": [
    "#Dropping Duplicates From Training Data\n",
    "df_train = df_train.drop_duplicates(keep ='first')\n",
    "\n",
    "#Dropping Duplicates From Testing Data\n",
    "df_test = df_test.drop_duplicates(keep = 'first')"
   ]
  },
  {
   "cell_type": "code",
   "execution_count": 18,
   "id": "a35382af-5547-4b51-ad20-54aa569103a6",
   "metadata": {},
   "outputs": [
    {
     "data": {
      "text/plain": [
       "0"
      ]
     },
     "execution_count": 18,
     "metadata": {},
     "output_type": "execute_result"
    }
   ],
   "source": [
    "#Training Duplicates After Dropping\n",
    "df_train.duplicated().sum()\n",
    "\n",
    "#Testing Duplicates After Dropping\n",
    "df_test.duplicated().sum()"
   ]
  },
  {
   "cell_type": "code",
   "execution_count": 19,
   "id": "843ec866-3d45-4326-a233-ed70a0126db1",
   "metadata": {},
   "outputs": [
    {
     "name": "stdout",
     "output_type": "stream",
     "text": [
      "(54104, 2)\n",
      "(54086, 2)\n"
     ]
    }
   ],
   "source": [
    "# Shape Of both Train And Test Data after removing duplicates\n",
    "print(df_train.shape)\n",
    "print(df_test.shape)"
   ]
  },
  {
   "cell_type": "code",
   "execution_count": 20,
   "id": "e6547bb8-eb8e-431b-b936-df5be9ecad25",
   "metadata": {},
   "outputs": [],
   "source": [
    "#Seperating Labels And Features From Datasets\n",
    "x_train_full = df_train['Description']    \n",
    "y_train_full = df_train['Genre']          \n",
    "\n",
    "x_test = df_test['Description']\n",
    "y_test = df_test['Genre']"
   ]
  },
  {
   "cell_type": "code",
   "execution_count": 21,
   "id": "8b34e939-e868-4202-a8c0-14f8222fa4c2",
   "metadata": {},
   "outputs": [
    {
     "name": "stdout",
     "output_type": "stream",
     "text": [
      "(54104,)\n",
      "(54104,)\n"
     ]
    }
   ],
   "source": [
    "#Shape Of Features And Labels Of Training\n",
    "print(x_train_full.shape)\n",
    "print(y_train_full.shape)"
   ]
  },
  {
   "cell_type": "code",
   "execution_count": 22,
   "id": "8cd75ac2-6b47-4f4e-b3af-a83510449bd9",
   "metadata": {},
   "outputs": [
    {
     "name": "stdout",
     "output_type": "stream",
     "text": [
      "(54086,)\n",
      "(54086,)\n"
     ]
    }
   ],
   "source": [
    "#Shape Of Features And Labels Of Testing\n",
    "print(x_test.shape)\n",
    "print(y_test.shape)"
   ]
  },
  {
   "attachments": {},
   "cell_type": "markdown",
   "id": "7b7e4901-524c-434e-b1c3-f795f991552d",
   "metadata": {},
   "source": [
    "## DATA VISUALIZATION"
   ]
  },
  {
   "cell_type": "code",
   "execution_count": 39,
   "id": "271e2ff1-ab38-4b73-aca5-745415382b97",
   "metadata": {},
   "outputs": [
    {
     "data": {
      "image/png": "[encoded data removed]",
      "text/plain": [
       "<Figure size 1000x600 with 1 Axes>"
      ]
     },
     "metadata": {},
     "output_type": "display_data"
    }
   ],
   "source": [
    "import seaborn as sns\n",
    "import matplotlib.pyplot as plt\n",
    "\n",
    "#Plotting Genre Vs Count Of Movies In That Genre\n",
    "plt.figure(figsize=(10,6))\n",
    "sns.countplot(x='Genre' , data=df_train , order=df_train['Genre'].value_counts().index ,palette='terrain_r') \n",
    "plt.title('Genre Distribution')\n",
    "plt.xlabel('Genre')\n",
    "plt.ylabel('Count')\n",
    "plt.xticks(rotation=70)\n",
    "plt.show()"
   ]
  },
  {
   "attachments": {},
   "cell_type": "markdown",
   "id": "eae19de2-7044-4bc8-a7b8-8be7c8869650",
   "metadata": {},
   "source": [
    "## DATA SPLITTING"
   ]
  },
  {
   "cell_type": "code",
   "execution_count": 24,
   "id": "9e82fc6d-db7e-46ca-a814-0f313f099b53",
   "metadata": {},
   "outputs": [],
   "source": [
    "# Importing Dependencies For Train Test Split\n",
    "from sklearn.model_selection import train_test_split\n",
    "\n",
    "#Splitting Training Data Into Training And Validation\n",
    "X_train , X_val , Y_train , Y_val = train_test_split(x_train_full , y_train_full , test_size=0.2 , random_state=1)  #Random_state is used for maintaing consistency in output"
   ]
  },
  {
   "cell_type": "code",
   "execution_count": 25,
   "id": "9878b793-c681-4bce-9a26-6a6e66e3a41c",
   "metadata": {},
   "outputs": [
    {
     "name": "stdout",
     "output_type": "stream",
     "text": [
      "(43283,)\n",
      "(10821,)\n",
      "(54086,)\n",
      "\n",
      "\n",
      "(43283,)\n",
      "(10821,)\n",
      "(54086,)\n"
     ]
    }
   ],
   "source": [
    "#Displaying Shapes Of Training,Validation and Test Features Set(i.e 'DESCRIPTION')\n",
    "print(X_train.shape)\n",
    "print(X_val.shape)\n",
    "print(x_test.shape)\n",
    "\n",
    "print('\\n')\n",
    "\n",
    "#Displaying Shapes Of Training,Validation and Test Features Set(i.e 'GENRE')\n",
    "print(Y_train.shape)\n",
    "print(Y_val.shape)\n",
    "print(y_test.shape)"
   ]
  },
  {
   "attachments": {},
   "cell_type": "markdown",
   "id": "831c9791-5d0d-45b3-ba5d-6a288482b197",
   "metadata": {},
   "source": [
    "## FEATURE EXTRACTION"
   ]
  },
  {
   "cell_type": "code",
   "execution_count": 26,
   "id": "5312137d-01bd-4a19-965c-6d32ba063c37",
   "metadata": {},
   "outputs": [],
   "source": [
    "#Using TfidVectorizer For Feature Extraction\n",
    "from sklearn.feature_extraction.text import TfidfVectorizer\n",
    "\n",
    "#Initializing TfidfVectorizer\n",
    "tfidf = TfidfVectorizer(stop_words ='english' , max_features=5000) n\n",
    "\n",
    "#Fitting and Transform the training features ,and transforming the validation and test features\n",
    "X_train_vec = tfidf.fit_transform(X_train)\n",
    "X_val_vec = tfidf.transform(X_val)\n",
    "X_test_vec = tfidf.transform(x_test)"
   ]
  },
  {
   "attachments": {},
   "cell_type": "markdown",
   "id": "8732ac16-dd55-45d5-ad4f-4e0acc9d9324",
   "metadata": {},
   "source": [
    "## MODEL TRAINING USING NAIVE BAYES"
   ]
  },
  {
   "cell_type": "code",
   "execution_count": 27,
   "id": "d06b4179-630c-497b-890d-4adf69736ec7",
   "metadata": {},
   "outputs": [
    {
     "data": {
      "text/html": [
       "<style>#sk-container-id-1 {color: black;}#sk-container-id-1 pre{padding: 0;}#sk-container-id-1 div.sk-toggleable {background-color: white;}#sk-container-id-1 label.sk-toggleable__label {cursor: pointer;display: block;width: 100%;margin-bottom: 0;padding: 0.3em;box-sizing: border-box;text-align: center;}#sk-container-id-1 label.sk-toggleable__label-arrow:before {content: \"▸\";float: left;margin-right: 0.25em;color: #696969;}#sk-container-id-1 label.sk-toggleable__label-arrow:hover:before {color: black;}#sk-container-id-1 div.sk-estimator:hover label.sk-toggleable__label-arrow:before {color: black;}#sk-container-id-1 div.sk-toggleable__content {max-height: 0;max-width: 0;overflow: hidden;text-align: left;background-color: #f0f8ff;}#sk-container-id-1 div.sk-toggleable__content pre {margin: 0.2em;color: black;border-radius: 0.25em;background-color: #f0f8ff;}#sk-container-id-1 input.sk-toggleable__control:checked~div.sk-toggleable__content {max-height: 200px;max-width: 100%;overflow: auto;}#sk-container-id-1 input.sk-toggleable__control:checked~label.sk-toggleable__label-arrow:before {content: \"▾\";}#sk-container-id-1 div.sk-estimator input.sk-toggleable__control:checked~label.sk-toggleable__label {background-color: #d4ebff;}#sk-container-id-1 div.sk-label input.sk-toggleable__control:checked~label.sk-toggleable__label {background-color: #d4ebff;}#sk-container-id-1 input.sk-hidden--visually {border: 0;clip: rect(1px 1px 1px 1px);clip: rect(1px, 1px, 1px, 1px);height: 1px;margin: -1px;overflow: hidden;padding: 0;position: absolute;width: 1px;}#sk-container-id-1 div.sk-estimator {font-family: monospace;background-color: #f0f8ff;border: 1px dotted black;border-radius: 0.25em;box-sizing: border-box;margin-bottom: 0.5em;}#sk-container-id-1 div.sk-estimator:hover {background-color: #d4ebff;}#sk-container-id-1 div.sk-parallel-item::after {content: \"\";width: 100%;border-bottom: 1px solid gray;flex-grow: 1;}#sk-container-id-1 div.sk-label:hover label.sk-toggleable__label {background-color: #d4ebff;}#sk-container-id-1 div.sk-serial::before {content: \"\";position: absolute;border-left: 1px solid gray;box-sizing: border-box;top: 0;bottom: 0;left: 50%;z-index: 0;}#sk-container-id-1 div.sk-serial {display: flex;flex-direction: column;align-items: center;background-color: white;padding-right: 0.2em;padding-left: 0.2em;position: relative;}#sk-container-id-1 div.sk-item {position: relative;z-index: 1;}#sk-container-id-1 div.sk-parallel {display: flex;align-items: stretch;justify-content: center;background-color: white;position: relative;}#sk-container-id-1 div.sk-item::before, #sk-container-id-1 div.sk-parallel-item::before {content: \"\";position: absolute;border-left: 1px solid gray;box-sizing: border-box;top: 0;bottom: 0;left: 50%;z-index: -1;}#sk-container-id-1 div.sk-parallel-item {display: flex;flex-direction: column;z-index: 1;position: relative;background-color: white;}#sk-container-id-1 div.sk-parallel-item:first-child::after {align-self: flex-end;width: 50%;}#sk-container-id-1 div.sk-parallel-item:last-child::after {align-self: flex-start;width: 50%;}#sk-container-id-1 div.sk-parallel-item:only-child::after {width: 0;}#sk-container-id-1 div.sk-dashed-wrapped {border: 1px dashed gray;margin: 0 0.4em 0.5em 0.4em;box-sizing: border-box;padding-bottom: 0.4em;background-color: white;}#sk-container-id-1 div.sk-label label {font-family: monospace;font-weight: bold;display: inline-block;line-height: 1.2em;}#sk-container-id-1 div.sk-label-container {text-align: center;}#sk-container-id-1 div.sk-container {/* jupyter's `normalize.less` sets `[hidden] { display: none; }` but bootstrap.min.css set `[hidden] { display: none !important; }` so we also need the `!important` here to be able to override the default hidden behavior on the sphinx rendered scikit-learn.org. See: https://github.com/scikit-learn/scikit-learn/issues/21755 */display: inline-block !important;position: relative;}#sk-container-id-1 div.sk-text-repr-fallback {display: none;}</style><div id=\"sk-container-id-1\" class=\"sk-top-container\"><div class=\"sk-text-repr-fallback\"><pre>MultinomialNB()</pre><b>In a Jupyter environment, please rerun this cell to show the HTML representation or trust the notebook. <br />On GitHub, the HTML representation is unable to render, please try loading this page with nbviewer.org.</b></div><div class=\"sk-container\" hidden><div class=\"sk-item\"><div class=\"sk-estimator sk-toggleable\"><input class=\"sk-toggleable__control sk-hidden--visually\" id=\"sk-estimator-id-1\" type=\"checkbox\" checked><label for=\"sk-estimator-id-1\" class=\"sk-toggleable__label sk-toggleable__label-arrow\">MultinomialNB</label><div class=\"sk-toggleable__content\"><pre>MultinomialNB()</pre></div></div></div></div></div>"
      ],
      "text/plain": [
       "MultinomialNB()"
      ]
     },
     "execution_count": 27,
     "metadata": {},
     "output_type": "execute_result"
    }
   ],
   "source": [
    "from sklearn.naive_bayes import MultinomialNB\n",
    "\n",
    "#Training the Multinomial Naive Bayes Classifier\n",
    "nb = MultinomialNB()\n",
    "nb.fit(X_train_vec, Y_train)"
   ]
  },
  {
   "attachments": {},
   "cell_type": "markdown",
   "id": "b60eeab8-44ba-4fa0-928f-4bb779a8dcde",
   "metadata": {},
   "source": [
    "## MODEL PREDICTIONS"
   ]
  },
  {
   "cell_type": "code",
   "execution_count": 28,
   "id": "45708b51-49e1-455c-aa0f-d396385f7a6e",
   "metadata": {},
   "outputs": [],
   "source": [
    "#Making Prediction On Validation Data\n",
    "y_pred_val = nb.predict(X_val_vec)"
   ]
  },
  {
   "cell_type": "code",
   "execution_count": 29,
   "id": "f494ea22-7454-4742-b456-0582263233a7",
   "metadata": {},
   "outputs": [
    {
     "data": {
      "text/plain": [
       "array([' thriller ', ' drama ', ' drama ', ..., ' drama ', ' drama ',\n",
       "       ' horror '], dtype='<U13')"
      ]
     },
     "execution_count": 29,
     "metadata": {},
     "output_type": "execute_result"
    }
   ],
   "source": [
    "y_pred_val"
   ]
  },
  {
   "attachments": {},
   "cell_type": "markdown",
   "id": "4c3110fd-4975-4f3a-a1c8-cca48cb0aaa8",
   "metadata": {},
   "source": [
    "## MODEL EVALUATION"
   ]
  },
  {
   "cell_type": "code",
   "execution_count": 30,
   "id": "6c7e787f-535b-4dc3-b101-8dd1de937983",
   "metadata": {},
   "outputs": [
    {
     "name": "stdout",
     "output_type": "stream",
     "text": [
      "Validation Accuracy: 0.5177894834118842\n",
      "Validation Classification Report:\n",
      "               precision    recall  f1-score   support\n",
      "\n",
      "      action        0.45      0.05      0.09       265\n",
      "       adult        0.82      0.07      0.13       128\n",
      "   adventure        0.56      0.06      0.10       158\n",
      "   animation        0.00      0.00      0.00        94\n",
      "   biography        0.00      0.00      0.00        54\n",
      "      comedy        0.50      0.42      0.46      1508\n",
      "       crime        0.00      0.00      0.00        97\n",
      " documentary        0.57      0.89      0.70      2592\n",
      "       drama        0.45      0.81      0.58      2678\n",
      "      family        0.00      0.00      0.00       174\n",
      "     fantasy        0.00      0.00      0.00        52\n",
      "   game-show        1.00      0.22      0.36        46\n",
      "     history        0.00      0.00      0.00        36\n",
      "      horror        0.75      0.37      0.49       438\n",
      "       music        0.82      0.10      0.18       135\n",
      "     musical        0.00      0.00      0.00        61\n",
      "     mystery        0.00      0.00      0.00        69\n",
      "        news        0.00      0.00      0.00        36\n",
      "  reality-tv        0.83      0.03      0.06       174\n",
      "     romance        0.00      0.00      0.00       148\n",
      "      sci-fi        0.71      0.04      0.07       139\n",
      "       short        0.62      0.10      0.18      1028\n",
      "       sport        0.90      0.11      0.19        84\n",
      "   talk-show        0.00      0.00      0.00        68\n",
      "    thriller        0.58      0.02      0.04       317\n",
      "         war        0.00      0.00      0.00        24\n",
      "     western        0.98      0.61      0.75       218\n",
      "\n",
      "     accuracy                           0.52     10821\n",
      "    macro avg       0.39      0.14      0.16     10821\n",
      " weighted avg       0.52      0.52      0.44     10821\n",
      "\n"
     ]
    }
   ],
   "source": [
    "from sklearn.metrics import accuracy_score, classification_report\n",
    "\n",
    "#Evaluating Value On Validation Data\n",
    "accuracy_val = accuracy_score(Y_val, y_pred_val)\n",
    "print(\"Validation Accuracy:\", accuracy_val)\n",
    "print(\"Validation Classification Report:\")\n",
    "print(classification_report(Y_val, y_pred_val, zero_division=0))"
   ]
  },
  {
   "cell_type": "code",
   "execution_count": 31,
   "id": "2709712f-048d-467c-aaf9-4bca06235efc",
   "metadata": {},
   "outputs": [],
   "source": [
    "#Prediction Test Dataset\n",
    "y_pred_test = nb.predict(X_test_vec)"
   ]
  },
  {
   "cell_type": "code",
   "execution_count": 32,
   "id": "91d6f4f5-24a4-4708-aefb-d6ceffca7b9a",
   "metadata": {},
   "outputs": [
    {
     "data": {
      "text/plain": [
       "array([' drama ', ' drama ', ' documentary ', ..., ' drama ', ' drama ',\n",
       "       ' documentary '], dtype='<U13')"
      ]
     },
     "execution_count": 32,
     "metadata": {},
     "output_type": "execute_result"
    }
   ],
   "source": [
    "y_pred_test"
   ]
  },
  {
   "cell_type": "code",
   "execution_count": 33,
   "id": "3d8eed0e-fc10-42a6-9e75-4ca69813fd32",
   "metadata": {},
   "outputs": [
    {
     "name": "stdout",
     "output_type": "stream",
     "text": [
      "\n",
      "Test Accuracy: 0.5177310209666087\n",
      "Test Classification Report:\n",
      "               precision    recall  f1-score   support\n",
      "\n",
      "      action        0.57      0.08      0.14      1314\n",
      "       adult        0.59      0.04      0.08       590\n",
      "   adventure        0.76      0.08      0.14       773\n",
      "   animation        0.00      0.00      0.00       498\n",
      "   biography        0.00      0.00      0.00       264\n",
      "      comedy        0.51      0.41      0.46      7437\n",
      "       crime        0.00      0.00      0.00       505\n",
      " documentary        0.57      0.88      0.69     13085\n",
      "       drama        0.45      0.83      0.59     13565\n",
      "      family        0.00      0.00      0.00       774\n",
      "     fantasy        0.00      0.00      0.00       322\n",
      "   game-show        0.98      0.25      0.40       193\n",
      "     history        0.00      0.00      0.00       243\n",
      "      horror        0.71      0.33      0.45      2204\n",
      "       music        0.79      0.08      0.14       720\n",
      "     musical        0.00      0.00      0.00       273\n",
      "     mystery        0.00      0.00      0.00       318\n",
      "        news        0.00      0.00      0.00       181\n",
      "  reality-tv        0.62      0.01      0.02       881\n",
      "     romance        0.00      0.00      0.00       670\n",
      "      sci-fi        0.61      0.03      0.06       645\n",
      "       short        0.60      0.11      0.19      5061\n",
      "       sport        0.80      0.08      0.15       430\n",
      "   talk-show        0.00      0.00      0.00       389\n",
      "    thriller        0.37      0.01      0.03      1589\n",
      "         war        0.00      0.00      0.00       132\n",
      "     western        0.95      0.58      0.72      1030\n",
      "\n",
      "     accuracy                           0.52     54086\n",
      "    macro avg       0.37      0.14      0.16     54086\n",
      " weighted avg       0.50      0.52      0.44     54086\n",
      "\n"
     ]
    }
   ],
   "source": [
    "#Evaluating Model On Test Dataset\n",
    "accuracy_test = accuracy_score(y_test, y_pred_test)\n",
    "print(\"\\nTest Accuracy:\", accuracy_test)\n",
    "print(\"Test Classification Report:\")\n",
    "print(classification_report(y_test, y_pred_test, zero_division=0))"
   ]
  },
  {
   "cell_type": "code",
   "execution_count": 36,
   "id": "3df88a55-4198-41ed-99fd-ea75f0dc5446",
   "metadata": {},
   "outputs": [
    {
     "name": "stdout",
     "output_type": "stream",
     "text": [
      "Predicted Genre:  documentary \n"
     ]
    }
   ],
   "source": [
    "description = \"\"\"Tenet is a 2020 movie directed by Sir Christopher Nolan about a CIA operative who's recruited by a mysterious organization to prevent a Russian oligarch with precognitive abilities from starting World War II\"\"\"\n",
    "\n",
    "# Transform the description using the trained TF-IDF vectorizer\n",
    "description_tfidf = tfidf.transform([description])\n",
    "\n",
    "# Predict the genre using the trained model\n",
    "predicted_genre = nb.predict(description_tfidf)\n",
    "\n",
    "# Print the predicted genre\n",
    "print(\"Predicted Genre:\", predicted_genre[0])\n"
   ]
  },
  {
   "cell_type": "code",
   "execution_count": null,
   "id": "13b2c3bc-5213-4b79-8c46-70da636b4420",
   "metadata": {},
   "outputs": [],
   "source": []
  }
 ],
 "metadata": {
  "kernelspec": {
   "display_name": "Python 3 (ipykernel)",
   "language": "python",
   "name": "python3"
  },
  "language_info": {
   "codemirror_mode": {
    "name": "ipython",
    "version": 3
   },
   "file_extension": ".py",
   "mimetype": "text/x-python",
   "name": "python",
   "nbconvert_exporter": "python",
   "pygments_lexer": "ipython3",
   "version": "3.12.4"
  }
 },
 "nbformat": 4,
 "nbformat_minor": 5
}
